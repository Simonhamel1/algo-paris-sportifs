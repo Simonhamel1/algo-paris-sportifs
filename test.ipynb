{
 "cells": [
  {
   "cell_type": "code",
   "execution_count": 7,
   "id": "b55af912",
   "metadata": {},
   "outputs": [
    {
     "name": "stdout",
     "output_type": "stream",
     "text": [
      "API quota used: 5, remaining: 495\n"
     ]
    }
   ],
   "source": [
    "#quotas restant api\n",
    "import requests\n",
    "import time\n",
    "import os\n",
    "from dotenv import load_dotenv\n",
    "\n",
    "load_dotenv()\n",
    "\n",
    "API_KEY = os.getenv(\"THE_ODDS_API_KEY\") # Assumes your API key is stored in an environment variable\n",
    "\n",
    "def get_remaining_quotas(api_key):\n",
    "    url = \"https://api.the-odds-api.com/v4/sports\"\n",
    "    params = {\"apiKey\": api_key}\n",
    "    response = requests.get(url, params=params)\n",
    "    if response.status_code == 200:\n",
    "        # Quota info is in response headers\n",
    "        quota_used = response.headers.get(\"x-requests-used\")\n",
    "        quota_remaining = response.headers.get(\"x-requests-remaining\")\n",
    "        return quota_used, quota_remaining\n",
    "    else:\n",
    "        raise Exception(f\"API request failed: {response.status_code} {response.text}\")\n",
    "\n",
    "if API_KEY:\n",
    "    used, remaining = get_remaining_quotas(API_KEY)\n",
    "    print(f\"API quota used: {used}, remaining: {remaining}\")\n",
    "    with open(\"./outputs/quotas.txt\", \"a\") as f:\n",
    "        f.write(f\"API quota used: {used}, remaining: {remaining} at {time.ctime()}\\n\")\n",
    "else:\n",
    "    print(\"ODDS_API_KEY environment variable not set.\")"
   ]
  }
 ],
 "metadata": {
  "kernelspec": {
   "display_name": "paris-sportif",
   "language": "python",
   "name": "python3"
  },
  "language_info": {
   "codemirror_mode": {
    "name": "ipython",
    "version": 3
   },
   "file_extension": ".py",
   "mimetype": "text/x-python",
   "name": "python",
   "nbconvert_exporter": "python",
   "pygments_lexer": "ipython3",
   "version": "3.13.7"
  }
 },
 "nbformat": 4,
 "nbformat_minor": 5
}
